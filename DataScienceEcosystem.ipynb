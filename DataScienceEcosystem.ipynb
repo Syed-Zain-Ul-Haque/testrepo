{
 "cells": [
  {
   "cell_type": "markdown",
   "id": "dd6eae53-52ed-46c2-96e4-97817b907036",
   "metadata": {},
   "source": [
    "# Data Science Tools and Ecosystem"
   ]
  },
  {
   "cell_type": "markdown",
   "id": "24ee3590-5707-4cd5-8d4d-2a7b433a70c6",
   "metadata": {},
   "source": [
    "In this notebook, Data Science Tools and Ecosystem are summarized."
   ]
  },
  {
   "cell_type": "markdown",
   "id": "9630bc17-450b-4427-8017-234b6abac192",
   "metadata": {},
   "source": [
    "**Objectives:**\n",
    "\n",
    "- SQL\n",
    "- Python\n",
    "- R"
   ]
  },
  {
   "cell_type": "markdown",
   "id": "24d2df71-c06f-405f-99d0-e3c941a8e119",
   "metadata": {},
   "source": [
    "Some of the popular languages that Data Scientists use are:\n",
    "1. Python\n",
    "2. R\n",
    "3. Julia"
   ]
  },
  {
   "cell_type": "markdown",
   "id": "8f4fb119-13b9-40f9-af77-4ebe30daf187",
   "metadata": {},
   "source": [
    "Some of the commonly used libraries used by Data Scientists include:\n",
    "1. Pandas\n",
    "2. TensorFlow\n",
    "3. Matplotlib"
   ]
  },
  {
   "cell_type": "markdown",
   "id": "95c1c0f8-74dd-4ce9-84d4-59b171755d85",
   "metadata": {},
   "source": [
    "| Data Science Tools |\n",
    "| ------------------ |\n",
    "| Jupyter Notebook |\n",
    "| Apache Spark |\n",
    "| R Studio |"
   ]
  },
  {
   "cell_type": "markdown",
   "id": "9a4fff5f-600a-4ac6-a456-10d631f8b8ea",
   "metadata": {},
   "source": [
    "### Below are a few examples of evaluating arithmetic expressions in Python"
   ]
  },
  {
   "cell_type": "code",
   "execution_count": 1,
   "id": "5f97c786-5151-42e5-871b-ebe679913401",
   "metadata": {
    "tags": []
   },
   "outputs": [
    {
     "data": {
      "text/plain": [
       "17"
      ]
     },
     "execution_count": 1,
     "metadata": {},
     "output_type": "execute_result"
    }
   ],
   "source": [
    "#This a simple arithmetic expression to mutiply then add integers\n",
    "(3*4)+5"
   ]
  },
  {
   "cell_type": "code",
   "execution_count": 2,
   "id": "5674fb15-8a9f-4237-b0cb-ca555a9f2e8d",
   "metadata": {
    "tags": []
   },
   "outputs": [
    {
     "data": {
      "text/plain": [
       "3.3333333333333335"
      ]
     },
     "execution_count": 2,
     "metadata": {},
     "output_type": "execute_result"
    }
   ],
   "source": [
    "#This will convert 200 minutes to hours by diving by 60\n",
    "200/60"
   ]
  },
  {
   "cell_type": "markdown",
   "id": "fe363af9-0d22-4bd6-a7ae-499b91d83aac",
   "metadata": {},
   "source": [
    "## Author\n",
    "Syed Zain Ul Haque"
   ]
  },
  {
   "cell_type": "code",
   "execution_count": null,
   "id": "31d8e6a3-8983-4c76-a0a0-90742d0ad5ec",
   "metadata": {},
   "outputs": [],
   "source": []
  }
 ],
 "metadata": {
  "kernelspec": {
   "display_name": "Python",
   "language": "python",
   "name": "conda-env-python-py"
  },
  "language_info": {
   "codemirror_mode": {
    "name": "ipython",
    "version": 3
   },
   "file_extension": ".py",
   "mimetype": "text/x-python",
   "name": "python",
   "nbconvert_exporter": "python",
   "pygments_lexer": "ipython3",
   "version": "3.7.12"
  }
 },
 "nbformat": 4,
 "nbformat_minor": 5
}
